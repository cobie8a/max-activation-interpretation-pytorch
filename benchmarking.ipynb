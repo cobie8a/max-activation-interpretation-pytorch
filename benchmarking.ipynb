{
 "cells": [
  {
   "cell_type": "code",
   "execution_count": 51,
   "metadata": {},
   "outputs": [
    {
     "name": "stdout",
     "output_type": "stream",
     "text": [
      "The autoreload extension is already loaded. To reload it, use:\n",
      "  %reload_ext autoreload\n"
     ]
    }
   ],
   "source": [
    "# get model\n",
    "from torchvision import models\n",
    "import sys, torch\n",
    "import matplotlib.pyplot as plt\n",
    "import torch.nn as nn\n",
    "from torch.autograd import Variable\n",
    "import torch.nn.functional as F\n",
    "from os.path import join as oj\n",
    "import numpy as np\n",
    "import pandas as pd\n",
    "from copy import deepcopy\n",
    "from memory_profiler import memory_usage\n",
    "from timeit import timeit\n",
    "\n",
    "%load_ext autoreload\n",
    "%autoreload 2\n",
    "\n",
    "device = 'cuda' if torch.cuda.is_available() else 'cpu'\n",
    "# model = models.vgg16(pretrained=True).to(device).eval()\n",
    "\n",
    "# freeze the model\n",
    "for param in model.parameters():\n",
    "    param.requires_grad = False"
   ]
  },
  {
   "cell_type": "code",
   "execution_count": 52,
   "metadata": {},
   "outputs": [],
   "source": [
    "## MLP which takes arguments for number of layers, sizes \n",
    "class FNN(nn.Module):\n",
    "    def __init__(self, num_layers, input_size, hidden_size, output_size):\n",
    "        # num_layers is number of weight matrices\n",
    "        super(FNN, self).__init__()\n",
    "        self.input_size = input_size\n",
    "        self.output_size = output_size\n",
    "        \n",
    "        if num_layers == 1:\n",
    "            self.fc = nn.ModuleList([nn.Linear(input_size, self.output_size)])\n",
    "        else:\n",
    "            self.fc = nn.ModuleList([nn.Linear(input_size, hidden_size)])\n",
    "            self.fc.extend([nn.Linear(hidden_size, hidden_size) for i in range(num_layers - 2)])\n",
    "            self.fc.append(nn.Linear(hidden_size, self.output_size))\n",
    "            \n",
    "    # doesn't use last layer\n",
    "    def features(self, x):\n",
    "        y = x.view(-1, self.input_size)\n",
    "        for i in range(len(self.fc) - 1):\n",
    "            y = F.relu(self.fc[i](y))\n",
    "        return y\n",
    "        \n",
    "    def forward(self, x): \n",
    "        return self.fc[-1](self.features(x)) # last layer has no relu"
   ]
  },
  {
   "cell_type": "code",
   "execution_count": null,
   "metadata": {},
   "outputs": [],
   "source": [
    "def get_grad(m, im):\n",
    "    pred = m(im).squeeze() # forward pass\n",
    "    pred.backward(retain_graph=False) \n",
    "    print(pred)\n",
    "    \n",
    "def freeze(m):\n",
    "    # freeze the model\n",
    "    for param in m.parameters():\n",
    "        param.requires_grad = False\n",
    "    return m\n",
    "\n",
    "# by default requires grad\n",
    "input_size = 100\n",
    "hidden_size = 100\n",
    "num_iters = 50\n",
    "device = 'cpu'\n",
    "\n",
    "results = {'t': [], 't_freeze': [], 'm': [], 'm_freeze': []}\n",
    "# for num_layers in [3, 5, 10, 25, 100, 500]:    \n",
    "for input_size in [3, 5, 10, 25, 100, 500]:        \n",
    "    im = torch.zeros(1, input_size, requires_grad=True, device=device)\n",
    "    m = FNN(num_layers=num_layers, input_size=input_size, hidden_size=hidden_size, output_size=1)\n",
    "    results['t'].append(timeit(lambda: get_grad(m, im), number=1))\n",
    "    results['m'].append(max(memory_usage(lambda: get_grad(m, im))))\n",
    "    m = freeze(m)\n",
    "    results['t_freeze'].append(timeit(lambda: get_grad(m, im), number=1))\n",
    "    results['m_freeze'].append(max(memory_usage(lambda: get_grad(m, im))))    \n",
    "    \n",
    "results = pd.DataFrame.from_dict(results)\n",
    "results"
   ]
  },
  {
   "cell_type": "code",
   "execution_count": 85,
   "metadata": {},
   "outputs": [
    {
     "data": {
      "image/png": "[encoded data removed]",
      "text/plain": [
       "<Figure size 432x288 with 1 Axes>"
      ]
     },
     "metadata": {
      "needs_background": "light"
     },
     "output_type": "display_data"
    }
   ],
   "source": [
    "plt.plot(results['t'], label='normal')\n",
    "plt.plot(results['t_freeze'], label='frozen')\n",
    "plt.show()"
   ]
  },
  {
   "cell_type": "code",
   "execution_count": 84,
   "metadata": {},
   "outputs": [
    {
     "data": {
      "image/png": "[encoded data removed]",
      "text/plain": [
       "<Figure size 432x288 with 1 Axes>"
      ]
     },
     "metadata": {
      "needs_background": "light"
     },
     "output_type": "display_data"
    }
   ],
   "source": [
    "plt.plot(results['m'])\n",
    "plt.plot(results['m_freeze'])\n",
    "plt.yscale('log')"
   ]
  }
 ],
 "metadata": {
  "anaconda-cloud": {},
  "kernelspec": {
   "display_name": "Python 3",
   "language": "python",
   "name": "python3"
  },
  "language_info": {
   "codemirror_mode": {
    "name": "ipython",
    "version": 3
   },
   "file_extension": ".py",
   "mimetype": "text/x-python",
   "name": "python",
   "nbconvert_exporter": "python",
   "pygments_lexer": "ipython3",
   "version": "3.7.5"
  }
 },
 "nbformat": 4,
 "nbformat_minor": 4
}
